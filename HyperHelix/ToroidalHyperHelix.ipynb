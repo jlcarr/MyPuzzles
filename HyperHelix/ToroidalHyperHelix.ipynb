{
 "cells": [
  {
   "cell_type": "markdown",
   "id": "28ebafbe",
   "metadata": {},
   "source": [
    "# Synthesis of Toroidal Hyper-Helices"
   ]
  },
  {
   "cell_type": "markdown",
   "id": "db3e22fd",
   "metadata": {},
   "source": [
    "## Algebraically by Hand\n",
    "\n",
    "Assume iteration $0$ is a point a the origin.\n",
    "\n",
    "Here are the steps of transformation for each iteration:\n",
    "\n",
    "1. Scale the time by $f_T$ so that the curve \"wraps\" $f_T$ times.\n",
    "2. Rotate the whole curve by $\\frac{\\pi}{2}$ about the $x$ axis.\n",
    "3. Scale the whole curve down by $f_R$.\n",
    "4. Translate the whole curve by $1$ along the $x$ axis.\n",
    "5. Unwind the curve about the unit cicle in the $xy$ plane by applying a rotation about the $z$ axis by the parameter $t$.\n",
    "\n",
    "Putting this all together we get the recurrence relation:\n",
    "\n",
    "$$ \\vec{H}_{n}(t) = R_{z}(2 \\pi t) \\left( \\frac{1}{f_{R}} R_{x}\\left(\\frac{\\pi}{2}\\right) \\vec{H}_{n-1}(f_{T} t) + \\hat{i}_{x} \\right) $$\n",
    "\n",
    "Or more explicitly:\n",
    "\n",
    "$$ \\vec{H}_{n}(t) = \n",
    "\\left[\\begin{matrix}\n",
    "    \\cos{\\left(2 \\pi t \\right)} & \\sin{\\left(2 \\pi t \\right)} & 0\\\\\n",
    "    - \\sin{\\left(2 \\pi t \\right)} & \\cos{\\left(2 \\pi t \\right)} & 0\\\\\n",
    "    0 & 0 & 1\n",
    "    \\end{matrix}\\right]\n",
    "\\left( \n",
    "    \\left[\\begin{matrix}\n",
    "        1 & 0 & 0\\\\\n",
    "        0 & 0 & 1\\\\\n",
    "        0 & -1 & 0\n",
    "    \\end{matrix}\\right] \n",
    "    \\vec{H}_{n-1}(f_{T} t) + \n",
    "    \\left[\\begin{matrix}\n",
    "        1\\\\\n",
    "        0\\\\\n",
    "        0\n",
    "    \\end{matrix}\\right]\n",
    "\\right) $$\n",
    "$$ \\vec{H}_{n}(t) = \n",
    "\\left[\\begin{matrix}\n",
    "    \\cos{\\left(2 \\pi t \\right)} & 0 & \\sin{\\left(2 \\pi t \\right)}\\\\\n",
    "    - \\sin{\\left(2 \\pi t \\right)} & 0 & \\cos{\\left(2 \\pi t \\right)}\\\\\n",
    "    0 & -1 & 0\n",
    "\\end{matrix}\\right]\n",
    "\\vec{H}_{n-1}(f_{T} t) + \n",
    "\\left[\\begin{matrix}\n",
    "    \\cos{\\left(2 \\pi t \\right)}\\\\\n",
    "    - \\sin{\\left(2 \\pi t \\right)}\\\\\n",
    "    0\n",
    "\\end{matrix}\\right]\n",
    "$$\n",
    "\n",
    "Where\n",
    "- $\\vec{H}_{n}(t)$ is the parametric equation expression for the hyperhelix of iteration $n$.\n",
    "- $t$ is the parameter of the parametrized expressions, which has range $[0,1]$.\n",
    "- $R_{x}(t)$ is the 3D rotation matrix about the $x$ axis, by $t$ radians.\n",
    "- $\\hat{i}_{x}$ is the unit vector in the $x$ direction.\n",
    "- $f_{R}$ is the scaling ratio of the hyper helix size/radius between iterations.\n",
    "- $f_{T}$ is the scaling ratio of the hyper helix frequency between iterations.\n",
    "\n",
    "Notice this is a linear recurrence relation, and so we can easily derive a closed form expression in terms of repeated sum of a repeated product of matrices, all applied to the unit vector. Could we simplify that? I'm not convinced since the changing frequencies mean it's not as simple as our usual matrix powers which can be simplified via diagonalization. But maybe by noticing we can express each rotation matrix in terms of the smallest rotation matrix to the power of their frequency ratios, maybe we could find something? For another time perhaps!"
   ]
  },
  {
   "cell_type": "markdown",
   "id": "a96aa795",
   "metadata": {},
   "source": [
    "## Algebraically via Sympy"
   ]
  },
  {
   "cell_type": "markdown",
   "id": "06d3d860",
   "metadata": {},
   "source": [
    "### Synthesis"
   ]
  },
  {
   "cell_type": "code",
   "execution_count": null,
   "id": "9dbbacd6",
   "metadata": {},
   "outputs": [],
   "source": [
    "import sympy"
   ]
  },
  {
   "cell_type": "code",
   "execution_count": null,
   "id": "5ca6fd9d",
   "metadata": {},
   "outputs": [],
   "source": [
    "f_T, f_R = sympy.symbols(['f_T','f_R'])"
   ]
  },
  {
   "cell_type": "code",
   "execution_count": null,
   "id": "1497702a",
   "metadata": {},
   "outputs": [],
   "source": [
    "t, = sympy.symbols(['t'])"
   ]
  },
  {
   "cell_type": "code",
   "execution_count": null,
   "id": "a667bb03",
   "metadata": {},
   "outputs": [],
   "source": [
    "redir_mat = sympy.rot_axis1(2*sympy.pi/4)\n",
    "offset = sympy.Matrix([1,0,0])\n",
    "def hyperhelix(i, t):\n",
    "    if i == 0:\n",
    "        return sympy.Matrix([0,0,0])\n",
    "    return sympy.rot_axis3(2*sympy.pi * t) * (redir_mat * hyperhelix(i-1, f_T * t) / f_R + offset)"
   ]
  },
  {
   "cell_type": "markdown",
   "id": "1da7df31",
   "metadata": {},
   "source": [
    "### Examples"
   ]
  },
  {
   "cell_type": "code",
   "execution_count": null,
   "id": "0011904c",
   "metadata": {},
   "outputs": [],
   "source": [
    "hyperhelix(1, t)"
   ]
  },
  {
   "cell_type": "code",
   "execution_count": null,
   "id": "9211152b",
   "metadata": {},
   "outputs": [],
   "source": [
    "hyperhelix(2, t)"
   ]
  },
  {
   "cell_type": "code",
   "execution_count": null,
   "id": "126eb530",
   "metadata": {},
   "outputs": [],
   "source": [
    "hyperhelix(3, t)"
   ]
  },
  {
   "cell_type": "markdown",
   "id": "a06c0f88",
   "metadata": {},
   "source": [
    "### Graphing"
   ]
  },
  {
   "cell_type": "code",
   "execution_count": null,
   "id": "f2db08bf",
   "metadata": {},
   "outputs": [],
   "source": [
    "from sympy.plotting.plot import MatplotlibBackend"
   ]
  },
  {
   "cell_type": "code",
   "execution_count": null,
   "id": "412ec460",
   "metadata": {},
   "outputs": [],
   "source": [
    "# hack around bug in sympy's plotting\n",
    "class EqualAxesBackend(MatplotlibBackend):\n",
    "    def process_series(self):\n",
    "        super().process_series()\n",
    "        for ax in self.ax:\n",
    "            ax.set(xlim=(-1, 1), ylim=(-1, 1), zlim=(-1, 1))"
   ]
  },
  {
   "cell_type": "code",
   "execution_count": null,
   "id": "eeff5d34",
   "metadata": {},
   "outputs": [],
   "source": [
    "iterations = 3\n",
    "R_factor = 4\n",
    "T_factor = 16\n",
    "resolution_factor = 16+1"
   ]
  },
  {
   "cell_type": "code",
   "execution_count": null,
   "id": "aa5f7ae9",
   "metadata": {},
   "outputs": [],
   "source": [
    "resolution = resolution_factor * T_factor ** (iterations-1)"
   ]
  },
  {
   "cell_type": "code",
   "execution_count": null,
   "id": "8b820abe",
   "metadata": {},
   "outputs": [],
   "source": [
    "p = hyperhelix(iterations, t)\n",
    "p"
   ]
  },
  {
   "cell_type": "code",
   "execution_count": null,
   "id": "b838d536",
   "metadata": {},
   "outputs": [],
   "source": [
    "ax = sympy.plotting.plot3d_parametric_line(*tuple(p.subs({f_R:R_factor, f_T:T_factor})), (t, 0, 1), nb_of_points=resolution, backend=EqualAxesBackend)"
   ]
  },
  {
   "cell_type": "markdown",
   "id": "975aa936",
   "metadata": {},
   "source": [
    "## Numerically via Numpy"
   ]
  },
  {
   "cell_type": "markdown",
   "id": "86f83823",
   "metadata": {},
   "source": [
    "### Synthesis"
   ]
  },
  {
   "cell_type": "code",
   "execution_count": null,
   "id": "e3e15702",
   "metadata": {},
   "outputs": [],
   "source": [
    "import numpy as np\n",
    "from scipy.spatial.transform import Rotation as R"
   ]
  },
  {
   "cell_type": "code",
   "execution_count": null,
   "id": "6adfb8c0",
   "metadata": {},
   "outputs": [],
   "source": [
    "redir_mat = R.from_rotvec(2 * np.pi / 4 * np.array([1, 0, 0])).as_matrix()\n",
    "def hyperhelix_np(iterations, T_factor, R_factor, resolution_factor=16+1):\n",
    "    resolution = resolution_factor * T_factor ** (iterations-1)\n",
    "    t = np.linspace(0,1,resolution)\n",
    "    p = np.zeros((resolution,3,1))\n",
    "    for i in reversed(range(iterations)):\n",
    "        p = np.matmul(redir_mat,p)\n",
    "        p += np.array([[1,0,0]]).T / R_factor**i        \n",
    "        rot_mats = R.from_rotvec(2 * np.pi * T_factor**i * np.outer(t, np.array([0, 0, 1]))).as_matrix()\n",
    "        p = np.matmul(rot_mats,p)\n",
    "    return np.squeeze(p)"
   ]
  },
  {
   "cell_type": "markdown",
   "id": "4e0201f0",
   "metadata": {},
   "source": [
    "### Graphing"
   ]
  },
  {
   "cell_type": "code",
   "execution_count": null,
   "id": "d88fae19",
   "metadata": {},
   "outputs": [],
   "source": [
    "import matplotlib.pyplot as plt"
   ]
  },
  {
   "cell_type": "code",
   "execution_count": null,
   "id": "a652ad3f",
   "metadata": {},
   "outputs": [],
   "source": [
    "iterations = 3\n",
    "R_factor = 4\n",
    "T_factor = 16\n",
    "resolution_factor = 16+1"
   ]
  },
  {
   "cell_type": "code",
   "execution_count": null,
   "id": "276ab5cc",
   "metadata": {},
   "outputs": [],
   "source": [
    "p = hyperhelix_np(iterations, T_factor, R_factor, resolution_factor)\n",
    "p.shape"
   ]
  },
  {
   "cell_type": "code",
   "execution_count": null,
   "id": "9b9329e8",
   "metadata": {},
   "outputs": [],
   "source": [
    "ax = plt.figure().add_subplot(projection='3d')\n",
    "ax.set(xlim=(-1, 1), ylim=(-1, 1), zlim=(-1, 1))\n",
    "ax.plot(*p.T)\n",
    "\n",
    "plt.show()"
   ]
  },
  {
   "cell_type": "code",
   "execution_count": null,
   "id": "5a4b0417",
   "metadata": {},
   "outputs": [],
   "source": []
  }
 ],
 "metadata": {
  "kernelspec": {
   "display_name": "Python 3",
   "language": "python",
   "name": "python3"
  },
  "language_info": {
   "codemirror_mode": {
    "name": "ipython",
    "version": 3
   },
   "file_extension": ".py",
   "mimetype": "text/x-python",
   "name": "python",
   "nbconvert_exporter": "python",
   "pygments_lexer": "ipython3",
   "version": "3.11.7"
  }
 },
 "nbformat": 4,
 "nbformat_minor": 5
}
