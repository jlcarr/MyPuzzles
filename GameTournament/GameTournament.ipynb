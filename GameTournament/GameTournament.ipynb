{
 "cells": [
  {
   "cell_type": "markdown",
   "id": "2f06af08",
   "metadata": {},
   "source": [
    "# Game Tournament\n",
    "## Description\n",
    "### Inspiration / Source / Backstory\n",
    "A friend of mine likes the videogame Hearthstone, and he had a question about the odds of winning a prize in an event they're running called \"Brawliseum\".\n",
    "Here's a link to the description on the fan wiki page:\n",
    "https://hearthstone.fandom.com/wiki/Heroic_Brawliseum\n",
    "\n",
    "I'm going to structure the problem in a generic way and look at how to solve it.\n",
    "\n",
    "### Problem Statement\n",
    "There is a game tournament in which each *admission* allows a player to play *games* until they either achieve $n$ wins, or $k$ losses, whichever comes first.  \n",
    "Players may re-enter, but each admission has a cost $c$.  \n",
    "Furthermore you may assume each game takes an average time $t$ to play.  \n",
    "Assume an average probability of winning a single game $p$.\n",
    "\n",
    "### Values for the Backstory\n",
    "- $p = 50\\%$ (since for each winner, there is also a loser)\n",
    "- $n = 12$\n",
    "- $k = 3$\n",
    "- $c = \\$ 10$\n",
    "- $t = 10 \\mathrm{mins}$\n",
    "\n",
    "### Questions\n",
    "- What is the probability, $\\mathrm{P}$, of winning the prize in a single admission?\n",
    "- What is the expected number of admissions, $\\mathrm{N}$, to win the prize?\n",
    "- What is the expected total cost, $\\mathrm{C}$, to win the prize?\n",
    "- What is the expected number of games, $\\mathrm{G}_{1}$, played in a single admission?\n",
    "- What is the expected number of games, $\\mathrm{G}$, played to win the prize?\n",
    "- What is the expected total time, $\\mathrm{T}$, it will take to win the prize?"
   ]
  },
  {
   "cell_type": "markdown",
   "id": "a38ffc8a",
   "metadata": {},
   "source": [
    "## Numerical Solution: Monte Carlo Simulation\n",
    "Probabily the easiest way to solve this problem with coding, as well as a good way to check our exact solutions, is to simulate it directly and track the stats on the results."
   ]
  },
  {
   "cell_type": "markdown",
   "id": "53255dd9",
   "metadata": {},
   "source": [
    "#### Simulation Code"
   ]
  },
  {
   "cell_type": "code",
   "execution_count": 1,
   "id": "6e6125a6",
   "metadata": {},
   "outputs": [],
   "source": [
    "import random"
   ]
  },
  {
   "cell_type": "markdown",
   "id": "c117d438",
   "metadata": {},
   "source": [
    "Using the values for the backstory "
   ]
  },
  {
   "cell_type": "code",
   "execution_count": 2,
   "id": "df40826f",
   "metadata": {},
   "outputs": [],
   "source": [
    "n = 12\n",
    "k = 3\n",
    "p = 0.5\n",
    "t = 10\n",
    "c = 10"
   ]
  },
  {
   "cell_type": "markdown",
   "id": "3325b3a5",
   "metadata": {},
   "source": [
    "Obviously the more samples we collect the lower our error will be. I won't do any analysis on expected error or variance here."
   ]
  },
  {
   "cell_type": "code",
   "execution_count": 3,
   "id": "9116c3b3",
   "metadata": {},
   "outputs": [],
   "source": [
    "samples = 100*1000"
   ]
  },
  {
   "cell_type": "code",
   "execution_count": 4,
   "id": "0180bc17",
   "metadata": {},
   "outputs": [],
   "source": [
    "total_admissions = 0\n",
    "total_cost = 0\n",
    "total_games = 0\n",
    "total_time = 0\n",
    "\n",
    "total_prizes = 0\n",
    "for i in range(samples):\n",
    "    while True:\n",
    "        total_admissions += 1\n",
    "        total_cost += c\n",
    "        wins, losses = 0,0\n",
    "        while wins < n and losses < k:\n",
    "            if random.random() > p:\n",
    "                wins += 1\n",
    "            else:\n",
    "                losses += 1\n",
    "            total_games += 1\n",
    "            total_time += t\n",
    "        if wins == n:\n",
    "            total_prizes += 1\n",
    "            break"
   ]
  },
  {
   "cell_type": "markdown",
   "id": "42cf4bdb",
   "metadata": {},
   "source": [
    "#### Computing P from Simulation Stats\n",
    "The probability of winning the prize in a single admissions would be ratio of the total number of prizes won in our simulation divided by the total number of admissions: i.e. normalizing the prizes by admissions.  \n",
    "This gives a result of $\\mathrm{P} \\approx 0.64 \\%$"
   ]
  },
  {
   "cell_type": "code",
   "execution_count": 5,
   "id": "d77960e8",
   "metadata": {},
   "outputs": [
    {
     "data": {
      "text/plain": [
       "0.006475016117933872"
      ]
     },
     "execution_count": 5,
     "metadata": {},
     "output_type": "execute_result"
    }
   ],
   "source": [
    "P = total_prizes / total_admissions\n",
    "P"
   ]
  },
  {
   "cell_type": "markdown",
   "id": "17188aed",
   "metadata": {},
   "source": [
    "#### Computing N from Simulation Stats\n",
    "The average number of admissions per win of the prize is simply the total number of admissions divided by the total number of prizes won: i.e. th reciprocal of $\\mathrm{P}$.  \n",
    "This gives a result of $\\mathrm{N} \\approx 156 $"
   ]
  },
  {
   "cell_type": "code",
   "execution_count": 6,
   "id": "efb4d5cb",
   "metadata": {},
   "outputs": [
    {
     "data": {
      "text/plain": [
       "154.43977"
      ]
     },
     "execution_count": 6,
     "metadata": {},
     "output_type": "execute_result"
    }
   ],
   "source": [
    "N = total_admissions / total_prizes\n",
    "N"
   ]
  },
  {
   "cell_type": "markdown",
   "id": "1066183d",
   "metadata": {},
   "source": [
    "#### Computing C from Simulation Stats\n",
    "The average cost to win of the prize is similar to the admissions.  \n",
    "This gives a result of $\\mathrm{C} \\approx \\$ 1558 $"
   ]
  },
  {
   "cell_type": "code",
   "execution_count": 7,
   "id": "006b3be6",
   "metadata": {},
   "outputs": [
    {
     "data": {
      "text/plain": [
       "1544.3977"
      ]
     },
     "execution_count": 7,
     "metadata": {},
     "output_type": "execute_result"
    }
   ],
   "source": [
    "C = total_cost / total_prizes\n",
    "C"
   ]
  },
  {
   "cell_type": "markdown",
   "id": "ed68de2b",
   "metadata": {},
   "source": [
    "#### Computing G1 from Simulation Stats\n",
    "The average games played in a single admission can be computed by dividing the total number of games by the total number of admissions.  \n",
    "This gives a result of $\\mathrm{G}_{1} \\approx 6 $"
   ]
  },
  {
   "cell_type": "code",
   "execution_count": 8,
   "id": "36832855",
   "metadata": {},
   "outputs": [
    {
     "data": {
      "text/plain": [
       "5.983737932269648"
      ]
     },
     "execution_count": 8,
     "metadata": {},
     "output_type": "execute_result"
    }
   ],
   "source": [
    "G1 = total_games / total_admissions\n",
    "G1"
   ]
  },
  {
   "cell_type": "markdown",
   "id": "95884782",
   "metadata": {},
   "source": [
    "#### Computing G from Simulation Stats\n",
    "The average games played to win the prize can be computed by dividing the total number of games by the total number of prizes won.  \n",
    "This gives a result of $\\mathrm{G} \\approx 932 $"
   ]
  },
  {
   "cell_type": "code",
   "execution_count": 9,
   "id": "53e325ca",
   "metadata": {},
   "outputs": [
    {
     "data": {
      "text/plain": [
       "924.12711"
      ]
     },
     "execution_count": 9,
     "metadata": {},
     "output_type": "execute_result"
    }
   ],
   "source": [
    "G = total_games / total_prizes\n",
    "G"
   ]
  },
  {
   "cell_type": "markdown",
   "id": "210a5b7e",
   "metadata": {},
   "source": [
    "#### Computing T from Simulation Stats\n",
    "The average time to win the prize can be computed by dividing the total time by the total number of prizes won.  \n",
    "This gives a result of $\n",
    "\\mathrm{T} \n",
    "\\approx 9325 \\, \\mathrm{mins} \n",
    "\\approx 155 \\, \\mathrm{hours} \n",
    "\\approx 6 \\,\\mathrm{days} $"
   ]
  },
  {
   "cell_type": "code",
   "execution_count": 10,
   "id": "8ea0528d",
   "metadata": {},
   "outputs": [
    {
     "data": {
      "text/plain": [
       "9241.2711"
      ]
     },
     "execution_count": 10,
     "metadata": {},
     "output_type": "execute_result"
    }
   ],
   "source": [
    "T = total_time / total_prizes\n",
    "T"
   ]
  },
  {
   "cell_type": "code",
   "execution_count": 11,
   "id": "5c781f2a",
   "metadata": {},
   "outputs": [
    {
     "data": {
      "text/plain": [
       "154.021185"
      ]
     },
     "execution_count": 11,
     "metadata": {},
     "output_type": "execute_result"
    }
   ],
   "source": [
    "T / 60"
   ]
  },
  {
   "cell_type": "code",
   "execution_count": 12,
   "id": "ba8b7333",
   "metadata": {},
   "outputs": [
    {
     "data": {
      "text/plain": [
       "6.417549375"
      ]
     },
     "execution_count": 12,
     "metadata": {},
     "output_type": "execute_result"
    }
   ],
   "source": [
    "T / 60 / 24"
   ]
  },
  {
   "cell_type": "markdown",
   "id": "79b9b65f",
   "metadata": {},
   "source": [
    "## Recursive Solution: Dynamic Programming\n",
    "https://en.wikipedia.org/wiki/Dynamic_programming  \n",
    "https://en.wikipedia.org/wiki/Memoization  \n",
    "\n",
    "For an exact solution we need to study the problem more analytically.  \n",
    "We can define the probability of winning the prize on a single tournament entry recursively as follows:\n",
    "\n",
    "$$ \n",
    "\\mathrm{P}(n,k) = \n",
    "\\begin{cases} \n",
    "    1 & n = 0 \\\\\n",
    "    0 & k = 0 \\\\\n",
    "    p \\cdot \\mathrm{P}(n-1,k) + (1-p) \\cdot \\mathrm{P}(n,k-1) & n,k \\gt 0 \\\\\n",
    "\\end{cases}\n",
    "$$\n",
    "\n",
    "Where\n",
    "- $ \\mathrm{P}(n,k) $ is the probability of getting $n$ successes before getting $k$ failures.\n",
    "- $ p $ is the probability of success on a single game.\n",
    "\n",
    "We can therefore solve this problem using dynamic programming, specifically memoization or cacheing of sub-solutions so as to not recompute them.  \n",
    "This gives an asymptotic complexity of $O(nk)$ in time and memory."
   ]
  },
  {
   "cell_type": "markdown",
   "id": "e5d12520",
   "metadata": {},
   "source": [
    "#### P with Dynamic Programming Code\n",
    "With the numbers from our backstory we get a result of $\\mathrm{P}(12,3) = 0.647\\%$, which is inline with our numerical approximation."
   ]
  },
  {
   "cell_type": "code",
   "execution_count": 13,
   "id": "12969acd",
   "metadata": {},
   "outputs": [],
   "source": [
    "from functools import cache"
   ]
  },
  {
   "cell_type": "code",
   "execution_count": 14,
   "id": "f813a62f",
   "metadata": {},
   "outputs": [
    {
     "data": {
      "text/plain": [
       "0.0064697265625"
      ]
     },
     "execution_count": 14,
     "metadata": {},
     "output_type": "execute_result"
    }
   ],
   "source": [
    "p = 0.5\n",
    "@cache\n",
    "def P(n,k):\n",
    "    if n == 0:\n",
    "        return 1.\n",
    "    if k == 0:\n",
    "        return 0.\n",
    "    return p * P(n-1,k) + (1-p) * P(n,k-1)\n",
    "P(12,3)"
   ]
  },
  {
   "cell_type": "markdown",
   "id": "2651b9b6",
   "metadata": {},
   "source": [
    "#### Solving for N from P\n",
    "Now for the number of admissions required, we can use the classic fact from probablility that the expected number of attempts is the reciprocal of the probability.\n",
    "$$ \\mathrm{N}(n,k) = \\frac{1}{\\mathrm{P}(n,k)} $$\n",
    "\n",
    "Where\n",
    "- $ \\mathrm{N}(n,k) $ is the expected number of admissions to get $n$ successes before getting $k$ failures.\n",
    "- $ \\mathrm{P}(n,k) $ is the probability of getting $n$ successes before getting $k$ failures.\n",
    "\n",
    "With the numbers from our backstory we get a result of $\\mathrm{N}(12,3) = 154.566$, which is inline with our numerical approximation."
   ]
  },
  {
   "cell_type": "code",
   "execution_count": 15,
   "id": "689e2f89",
   "metadata": {},
   "outputs": [
    {
     "data": {
      "text/plain": [
       "154.56603773584905"
      ]
     },
     "execution_count": 15,
     "metadata": {},
     "output_type": "execute_result"
    }
   ],
   "source": [
    "N = 1/P(12,3)\n",
    "N"
   ]
  },
  {
   "cell_type": "markdown",
   "id": "f8301bd4",
   "metadata": {},
   "source": [
    "#### Solving for C from N\n",
    "Our equation for cost comes from a straight-forward proportionality\n",
    "$$ \\mathrm{C} = c \\mathrm{N} = \\frac{c}{\\mathrm{P}} $$\n",
    "\n",
    "Where\n",
    "- $ \\mathrm{C} $ is the expected total cost to win the prize.\n",
    "- $ c $ is the cost of a single admission.\n",
    "- $ \\mathrm{N} $ is the expected number of admissions to win the prize.\n",
    "- $ \\mathrm{P} $ is the probability of winning on a single admission.\n",
    "\n",
    "With the numbers from our backstory we get a result of $\\mathrm{C} = \\$ 1545.66$, which is inline with our numerical approximation."
   ]
  },
  {
   "cell_type": "code",
   "execution_count": 16,
   "id": "78c79200",
   "metadata": {},
   "outputs": [
    {
     "data": {
      "text/plain": [
       "1545.6603773584905"
      ]
     },
     "execution_count": 16,
     "metadata": {},
     "output_type": "execute_result"
    }
   ],
   "source": [
    "c = 10\n",
    "C = c * N\n",
    "C"
   ]
  },
  {
   "cell_type": "markdown",
   "id": "18b639af",
   "metadata": {},
   "source": [
    "#### Dynamic Programming for G1, G and T\n",
    "We can solve for $G_{1}$, $G$ and $T$, as well with a recursive definition taking into account the number of games played:\n",
    "\n",
    "$$ \n",
    "\\mathrm{G}_{1}(n,k) = \n",
    "\\begin{cases} \n",
    "    n_{0} + k_{0} - k & n = 0 \\\\\n",
    "    n_{0} + k_{0} - n & k = 0 \\\\\n",
    "    p \\cdot \\mathrm{G}_{1}(n-1,k) + (1-p) \\cdot \\mathrm{G}_{1}(n,k-1) & n,k \\gt 0 \\\\\n",
    "\\end{cases}\n",
    "$$\n",
    "\n",
    "Where\n",
    "- $ \\mathrm{G}_{1}(n,k) $ is the expected number of games played in an admission, given there are $n$ successes and $k$ failures remaining in the current admission.\n",
    "- $n_{0}$ is the number of successes in an admission required to win the prize.\n",
    "- $k_{0}$ is the number of failures in an admission resulting in requiring a re-try.\n",
    "- $p$ is the probability of success on a single game.\n",
    "\n",
    "We can therefore solve this problem using dynamic programming with an asymptotic complexity of $O(nk)$ in time and memory."
   ]
  },
  {
   "cell_type": "markdown",
   "id": "51aa31e6",
   "metadata": {},
   "source": [
    "#### G1 with Dynamic Programming Code\n",
    "With the numbers from our backstory we get a result of $\\mathrm{G}_1(12,3) = 5.983$, which is inline with our numerical approximation."
   ]
  },
  {
   "cell_type": "code",
   "execution_count": 17,
   "id": "8b180a29",
   "metadata": {},
   "outputs": [
    {
     "data": {
      "text/plain": [
       "5.983154296875"
      ]
     },
     "execution_count": 17,
     "metadata": {},
     "output_type": "execute_result"
    }
   ],
   "source": [
    "n0 = 12\n",
    "k0 = 3\n",
    "p = 0.5\n",
    "@cache\n",
    "def G1(n,k):\n",
    "    if n == 0 or k == 0:\n",
    "        return n0 + k0 - n - k\n",
    "    return p * G1(n-1,k) + (1-p) * G1(n,k-1)\n",
    "G1(n0,k0)"
   ]
  },
  {
   "cell_type": "markdown",
   "id": "77c86f55",
   "metadata": {},
   "source": [
    "#### Solving for G from G1 and N\n",
    "If we know the expected number of admissions to win the prize, $\\mathrm{N}$, and the expected number of games played per admission, $\\mathrm{G}_{1}$, then logically we should be able to compute the expected number of games played to win the prize, $\\mathrm{G}$, with the following equation:\n",
    "\n",
    "$$ \\mathrm{G} = \\mathrm{G}_{1} \\mathrm{N} = \\frac{\\mathrm{G}_{1}}{P} $$\n",
    "\n",
    "Where\n",
    "- $ \\mathrm{G} $ is the expected total number of games played.\n",
    "- $ \\mathrm{G}_{1} $ is the expected number of games played in a single admission.\n",
    "- $ \\mathrm{N} $ is the expected number of admissions to win the prize.\n",
    "- $ \\mathrm{P} $ is the probability of winning on a single admission.\n",
    "\n",
    "Is this legitimate though? The answer is yes, because each admission is independent from eachother: the expected number of games for each admission does not change no matter how many admissions we enter.\n",
    "\n",
    "With the numbers from our backstory we get a result of $\\mathrm{G} = 924.792$, which is inline with our numerical approximation."
   ]
  },
  {
   "cell_type": "code",
   "execution_count": 18,
   "id": "675355b9",
   "metadata": {},
   "outputs": [
    {
     "data": {
      "text/plain": [
       "924.7924528301886"
      ]
     },
     "execution_count": 18,
     "metadata": {},
     "output_type": "execute_result"
    }
   ],
   "source": [
    "G = G1(n0,k0) * N\n",
    "G"
   ]
  },
  {
   "cell_type": "markdown",
   "id": "634c5b6a",
   "metadata": {},
   "source": [
    "#### Solving for T from G\n",
    "Our equation for time comes from a straight-forward proportionality\n",
    "$$ \\mathrm{T} = t \\mathrm{G} = t \\mathrm{G}_{1} \\mathrm{N} = \\frac{t \\mathrm{G}_{1}}{P}$$\n",
    "\n",
    "Where\n",
    "- $ \\mathrm{T} $ is the expected total time to win the prize.\n",
    "- $ t $ is the time to play a single game.\n",
    "- $ \\mathrm{G} $ is the expected total number of games played.\n",
    "- $ \\mathrm{G}_{1} $ is the expected number of games played in a single admission.\n",
    "- $ \\mathrm{N} $ is the expected number of admissions to win the prize.\n",
    "- $ \\mathrm{P} $ is the probability of winning on a single admission.\n",
    "\n",
    "With the numbers from our backstory we get a result of $\\mathrm{T} = 9196.736 \\mathrm{mins} \n",
    "= 6 \\mathrm{days} \\, 9 \\mathrm{hours} \\, 16 \\mathrm{mins}$, which is inline with our numerical approximation."
   ]
  },
  {
   "cell_type": "code",
   "execution_count": 19,
   "id": "0c8fb374",
   "metadata": {},
   "outputs": [
    {
     "data": {
      "text/plain": [
       "9247.924528301886"
      ]
     },
     "execution_count": 19,
     "metadata": {},
     "output_type": "execute_result"
    }
   ],
   "source": [
    "t = 10\n",
    "T = t * G\n",
    "T"
   ]
  },
  {
   "cell_type": "code",
   "execution_count": 20,
   "id": "7274b28e",
   "metadata": {},
   "outputs": [
    {
     "name": "stdout",
     "output_type": "stream",
     "text": [
      "6 days 10 hours and 7.924528301886312 minutes\n"
     ]
    }
   ],
   "source": [
    "minutes = T % 60\n",
    "hours = int(T-minutes) // 60 % 24\n",
    "days = int(T-minutes-60*hours) // 60 // 24\n",
    "print(f\"{days} days {hours} hours and {minutes} minutes\")"
   ]
  },
  {
   "cell_type": "markdown",
   "id": "213b1ccd",
   "metadata": {},
   "source": [
    "## Recursive Solution 2: Linear Systems\n",
    "In the same way as we defined the the probability of winning in a single entry recursively, we can define the expected number of admissions to win the prize recursively as follows:\n",
    "\n",
    "$$ \n",
    "\\mathrm{N}(n,k) = \n",
    "\\begin{cases} \n",
    "    1 & n = 0 \\\\\n",
    "    1 + \\mathrm{N}(n_{0},k_{0}) & k = 0 \\\\\n",
    "    p \\cdot \\mathrm{N}(n-1,k) + (1-p) \\cdot \\mathrm{N}(n,k-1) & n,k \\gt 0 \\\\\n",
    "\\end{cases}\n",
    "$$\n",
    "\n",
    "\n",
    "Where\n",
    "- $\\mathrm{N}(n,k)$ is the expected number of admissions required to win the prize, given there are $n$ successes and $k$ failures remaining in the current admission.\n",
    "- $n_{0}$ is the number of successes in an admission required to win the prize.\n",
    "- $k_{0}$ is the number of failures in an admission resulting in requiring a re-try.\n",
    "- $p$ is the probability of success on a single game.\n",
    "\n",
    "Now this problem has a cycle in its recursive definition, so we can't use dynamic programming, however we fortunately do have a linear system, and for our relatively low number of states should be able to solve this without too much trouble!\n",
    "\n",
    "We need values and have equations for $\\mathrm{N}(n,k)$ for $n,k \\in [0,n_{0}] \\times [0,k_{0}]$.  \n",
    "Which means we have $(n_{0}+1)(k_{0}+1)$ equations and variables, and therefore a $(n_{0}+1)(k_{0}+1) \\times (n_{0}+1)(k_{0}+1)$ square matrix.\n",
    "\n",
    "However it should be noted that this approach takes $O(n^{2}k^{2})$ space complexity, and $O(n^{3}k^{3})$ time complexity with general linear system algorithms (like Gauss-Jordan), however since we have a sparse, and almost banded matrix, we should be able to solve it in $O(nk)$ time and space. Furthermore with the matrix division it should also be noted that the linear stability likely isn't as good, and same with the expected error."
   ]
  },
  {
   "cell_type": "markdown",
   "id": "ea154305",
   "metadata": {},
   "source": [
    "#### N with Linear Systems Code\n",
    "With the numbers from our backstory we get a result of $\\mathrm{N} = 154.566$, which matches our previous calculations."
   ]
  },
  {
   "cell_type": "code",
   "execution_count": 21,
   "id": "5dbccd8b",
   "metadata": {},
   "outputs": [],
   "source": [
    "import numpy as np"
   ]
  },
  {
   "cell_type": "code",
   "execution_count": 22,
   "id": "a51313f4",
   "metadata": {},
   "outputs": [],
   "source": [
    "n0 = 12\n",
    "k0 = 3\n",
    "p = 0.5"
   ]
  },
  {
   "cell_type": "code",
   "execution_count": 23,
   "id": "7393893a",
   "metadata": {},
   "outputs": [],
   "source": [
    "size = (n0+1) * (k0+1)\n",
    "N_mat = np.eye(size)\n",
    "N_vec = np.zeros(size)\n",
    "for n in range(n0+1):\n",
    "    for k in range(k0+1):\n",
    "        if n == 0:\n",
    "            N_vec[n*(k0+1) + k] = 1\n",
    "        elif k == 0:\n",
    "            N_vec[n*(k0+1) + k] = 1\n",
    "            N_mat[n*(k0+1) + k][n0*(k0+1) + k0] = -1\n",
    "        else:\n",
    "            N_mat[n*(k0+1) + k][(n-1)*(k0+1) + k] = -p\n",
    "            N_mat[n*(k0+1) + k][n*(k0+1) + k-1] = -(1-p)"
   ]
  },
  {
   "cell_type": "code",
   "execution_count": 24,
   "id": "0ceb1a6e",
   "metadata": {},
   "outputs": [
    {
     "data": {
      "text/plain": [
       "154.56603773584905"
      ]
     },
     "execution_count": 24,
     "metadata": {},
     "output_type": "execute_result"
    }
   ],
   "source": [
    "N = np.linalg.solve(N_mat, N_vec)[-1]\n",
    "N"
   ]
  },
  {
   "cell_type": "markdown",
   "id": "4d0fe8fb",
   "metadata": {},
   "source": [
    "#### Solving for G with linear systems\n",
    "We can define the time taken to win the prize on a single tournament entry recursively as follows:\n",
    "\n",
    "$$ \n",
    "\\mathrm{G}(n,k) = \n",
    "\\begin{cases} \n",
    "    0 & n = 0 \\\\\n",
    "    \\mathrm{G}(n_{0},k_{0}) & k = 0 \\\\\n",
    "    1 + p \\cdot \\mathrm{G}(n-1,k) + (1-p) \\cdot \\mathrm{G}(n,k-1) & n,k \\gt 0 \\\\\n",
    "\\end{cases}\n",
    "$$\n",
    "\n",
    "\n",
    "Where\n",
    "- $\\mathrm{G}(n,k)$ is the expected number of games played to win the prize, given there are $n$ successes and $k$ failures remaining in the current admission.\n",
    "- $n_{0}$ is the number of successes in an admission required to win the prize.\n",
    "- $k_{0}$ is the number of failures in an admission resulting in requiring a re-try.\n",
    "- $p$ is the probability of success on a single game."
   ]
  },
  {
   "cell_type": "markdown",
   "id": "ba03e637",
   "metadata": {},
   "source": [
    "#### G with Linear Systems Code\n",
    "With the numbers from our backstory we get a result of $\\mathrm{G} = 924.792$, which matches our previous calculations."
   ]
  },
  {
   "cell_type": "code",
   "execution_count": 25,
   "id": "f0540db8",
   "metadata": {},
   "outputs": [],
   "source": [
    "n_0 = 12\n",
    "k_0 = 3\n",
    "p = 0.5"
   ]
  },
  {
   "cell_type": "code",
   "execution_count": 26,
   "id": "553b7825",
   "metadata": {},
   "outputs": [],
   "source": [
    "size = (n_0+1) * (k_0+1)\n",
    "G_mat = np.eye(size)\n",
    "G_vec = np.zeros(size)\n",
    "for n in range(n_0+1):\n",
    "    for k in range(k_0+1):\n",
    "        if n == 0:\n",
    "            pass\n",
    "        elif k == 0:\n",
    "            G_mat[n*(k_0+1) + k][n_0*(k_0+1) + k_0] = -1\n",
    "        else:\n",
    "            G_mat[n*(k_0+1) + k][(n-1)*(k_0+1) + k] = -p\n",
    "            G_mat[n*(k_0+1) + k][n*(k_0+1) + k-1] = -(1-p)\n",
    "            G_vec[n*(k_0+1) + k] = 1"
   ]
  },
  {
   "cell_type": "code",
   "execution_count": 27,
   "id": "c561be30",
   "metadata": {},
   "outputs": [
    {
     "data": {
      "text/plain": [
       "924.7924528301887"
      ]
     },
     "execution_count": 27,
     "metadata": {},
     "output_type": "execute_result"
    }
   ],
   "source": [
    "G = np.linalg.solve(G_mat, G_vec)[-1]\n",
    "G"
   ]
  },
  {
   "cell_type": "markdown",
   "id": "68f5169c",
   "metadata": {},
   "source": [
    "## Analytic Solution: Stars and Bars\n",
    "https://en.wikipedia.org/wiki/Stars_and_bars_(combinatorics)\n",
    "\n",
    "Now we've solved this problem with a numerical approximation, as well as computed exact solutions recursively, is there a way we could have solved this problem in an analytical close-form formula?\n",
    "\n",
    "Turns out the answer is yes!\n",
    "\n",
    "The way so solve this problem analytically is to sum the probabilities of getting $n$ wins and less than $k$ losses in an admission.\n",
    "\n",
    "The probability of getting a particular ordered string of $n$ wins and $k$ losses in an admission is $p^{n}(1-p)^{k}$. So we needed to multiply this probability by the number of ways to get $n$ wins and $k$ losses to get the unordered probability.\n",
    "\n",
    "The \"stars-and-bars trick\" solves combinatorial problems of the form \"How many ways are there to arrange $n$ stars and $k$ bars\", or in our case \"How many ways are there to get $n$ wins and $k$ losses in an admission\".\n",
    "\n",
    "The number of arrangements is given in terms of the binomial coefficient, $ \\binom{n+k}{k} $, which makes sense: if we have $n+k$ slots for stars or bars, and we need to choose $k$ of them to be bars.\n",
    "\n",
    "The last thing to remember is that we must end of a win, therefore in our star-and-bars we will fix one win at the end, and so only consider $n-1$ in counting our arrangements.\n",
    "\n",
    "Putting this all together in a sum yields:\n",
    "\n",
    "$$ \\mathrm{P}(n,k) \n",
    "= \\sum_{j=0}^{k-1} p^{n} (1-p)^{j} \\binom{n-1+j}{j} \n",
    "= \\frac{p^{n}}{(n-1)!} \\sum_{j=0}^{k-1} (1-p)^{j} \\frac{(n-1+j)!}{j!}\n",
    "$$\n",
    "\n",
    "The time complexity is technically not improved because of the factorials in the loops, $O(k^{2})$, but the space complexity has now been eliminated, $O(1)$. Also I would expect the numerical stability of this formula to be much lower than the dynamic programming approach."
   ]
  },
  {
   "cell_type": "markdown",
   "id": "d94e0525",
   "metadata": {},
   "source": [
    "#### Computing P Analytically\n",
    "With the numbers from our backstory we get a result of $\\mathrm{P} = 0.647 \\%$, which matches our previous calculations."
   ]
  },
  {
   "cell_type": "code",
   "execution_count": 28,
   "id": "122ef30e",
   "metadata": {},
   "outputs": [],
   "source": [
    "import math"
   ]
  },
  {
   "cell_type": "code",
   "execution_count": 29,
   "id": "be043ebe",
   "metadata": {},
   "outputs": [],
   "source": [
    "n = 12\n",
    "k = 3\n",
    "p = 0.5"
   ]
  },
  {
   "cell_type": "code",
   "execution_count": 30,
   "id": "412b4816",
   "metadata": {},
   "outputs": [
    {
     "data": {
      "text/plain": [
       "0.0064697265625"
      ]
     },
     "execution_count": 30,
     "metadata": {},
     "output_type": "execute_result"
    }
   ],
   "source": [
    "P = sum(p**n * (1-p)**j * math.comb(n-1+j, j) for j in range(k))\n",
    "P"
   ]
  },
  {
   "cell_type": "markdown",
   "id": "302254d4",
   "metadata": {},
   "source": [
    "#### Solving for N from P\n",
    "We can use the same equation for $\\mathrm{N}$ as before:\n",
    "$$ \\mathrm{N} = \\frac{1}{\\mathrm{P}} $$\n",
    "\n",
    "With the numbers from our backstory we get a result of $\\mathrm{N} = 154.566$, which matches our previous calculations."
   ]
  },
  {
   "cell_type": "code",
   "execution_count": 31,
   "id": "3e918960",
   "metadata": {},
   "outputs": [
    {
     "data": {
      "text/plain": [
       "154.56603773584905"
      ]
     },
     "execution_count": 31,
     "metadata": {},
     "output_type": "execute_result"
    }
   ],
   "source": [
    "N = 1/P\n",
    "N"
   ]
  },
  {
   "cell_type": "markdown",
   "id": "ef8d97a1",
   "metadata": {},
   "source": [
    "#### Solving for C from N\n",
    "Again, same as before:\n",
    "$$ \\mathrm{C} = c \\mathrm{N} = \\frac{c}{\\mathrm{P}} $$\n",
    "\n",
    "With the numbers from our backstory we get a result of $\\mathrm{N} = 1545.66$, which matches our previous calculations."
   ]
  },
  {
   "cell_type": "code",
   "execution_count": 32,
   "id": "8da48331",
   "metadata": {},
   "outputs": [
    {
     "data": {
      "text/plain": [
       "1545.6603773584905"
      ]
     },
     "execution_count": 32,
     "metadata": {},
     "output_type": "execute_result"
    }
   ],
   "source": [
    "c = 10\n",
    "C = c*N\n",
    "C"
   ]
  },
  {
   "cell_type": "markdown",
   "id": "438c9c23",
   "metadata": {},
   "source": [
    "#### Computing G1 Analytically\n",
    "We can use a similar approach to compute $\\mathrm{G}_{1}$, since we now know how to compute the probability of getting a given number of successes and failure in an entry, we can weight the cases of different numbers of games being played. Note we have to include both the cases where the prize is won and when it isn't.\n",
    "\n",
    "$$ \\mathrm{G}_{1}(n,k) \n",
    "= \\sum_{j=0}^{k-1} (n+j) p^{n} (1-p)^{j} \\binom{n-1+j}{j} \n",
    "+ \\sum_{j=0}^{n-1} (j+k) p^{j} (1-p)^{k} \\binom{j+k-1}{k-1}\n",
    "$$\n",
    "\n",
    "Factoring out constant terms from the summations:\n",
    "\n",
    "$$ \\mathrm{G}_{1}(n,k) \n",
    "= \\frac{p^{n}}{(n-1)!} \\sum_{j=0}^{k-1} (n+j) (1-p)^{j} \\frac{(n-1+j)!}{j!} \n",
    "+ \\frac{(1-p)^{k}}{(k-1)!} \\sum_{j=0}^{n-1} (j+k) p^{j} \\frac{(j+k-1)!}{j!}\n",
    "$$\n",
    "\n",
    "Again, the time complexity is technically not improved because of the factorials in the loops, $O(nk)$, but the space complexity has now been eliminated, $O(1)$. Also I would expect the numerical stability of this formula to be much lower than the dynamic programming approach.\n",
    "\n",
    "With the numbers from our backstory we get a result of $\\mathrm{G}_{1} = 5.983$, which matches our previous calculations."
   ]
  },
  {
   "cell_type": "code",
   "execution_count": 33,
   "id": "cccd7ceb",
   "metadata": {},
   "outputs": [
    {
     "data": {
      "text/plain": [
       "5.983154296875"
      ]
     },
     "execution_count": 33,
     "metadata": {},
     "output_type": "execute_result"
    }
   ],
   "source": [
    "G1 = sum( (n+j) * p**n * (1-p)**j * math.comb(n-1 + j, j) for j in range(k)) \\\n",
    "    + sum( (j+k) * p**j * (1-p)**k * math.comb(j + k-1, k-1) for j in range(n))\n",
    "G1"
   ]
  },
  {
   "cell_type": "markdown",
   "id": "1c065ba0",
   "metadata": {},
   "source": [
    "#### Solving for G from G1 and N\n",
    "We can use the same equation for $\\mathrm{G}$ as before:\n",
    "$$ \\mathrm{G} = \\mathrm{G}_{1} \\mathrm{N} = \\frac{\\mathrm{G}_{1}}{P} $$\n",
    "\n",
    "With the numbers from our backstory we get a result of $\\mathrm{G} = 924.792$, which matches our previous calculations."
   ]
  },
  {
   "cell_type": "code",
   "execution_count": 34,
   "id": "eba1c5e3",
   "metadata": {},
   "outputs": [
    {
     "data": {
      "text/plain": [
       "924.7924528301886"
      ]
     },
     "execution_count": 34,
     "metadata": {},
     "output_type": "execute_result"
    }
   ],
   "source": [
    "G = G1 * N\n",
    "G"
   ]
  },
  {
   "cell_type": "markdown",
   "id": "a7673bfc",
   "metadata": {},
   "source": [
    "#### Solving for T from G\n",
    "We can use the same equation for $\\mathrm{T}$ as before:\n",
    "$$ \\mathrm{T} = t \\mathrm{G} = t \\mathrm{G}_{1} \\mathrm{N} = \\frac{t \\mathrm{G}_{1}}{P}$$\n",
    "\n",
    "\n",
    "With the numbers from our backstory we get a result of $\\mathrm{T} = 9247.925 \\mathrm{mins} \n",
    "= 6 \\mathrm{days} \\, 10 \\mathrm{hours} \\, 8 \\mathrm{mins}$, which matches our previous calculations."
   ]
  },
  {
   "cell_type": "code",
   "execution_count": 35,
   "id": "3b0f4ab1",
   "metadata": {},
   "outputs": [
    {
     "data": {
      "text/plain": [
       "9247.924528301886"
      ]
     },
     "execution_count": 35,
     "metadata": {},
     "output_type": "execute_result"
    }
   ],
   "source": [
    "t = 10\n",
    "T = t * G\n",
    "T"
   ]
  },
  {
   "cell_type": "code",
   "execution_count": 36,
   "id": "0775fbdc",
   "metadata": {},
   "outputs": [
    {
     "name": "stdout",
     "output_type": "stream",
     "text": [
      "6 days 10 hours and 7.924528301886312 minutes\n"
     ]
    }
   ],
   "source": [
    "minutes = T % 60\n",
    "hours = int(T-minutes) // 60 % 24\n",
    "days = int(T-minutes-60*hours) // 60 // 24\n",
    "print(f\"{days} days {hours} hours and {minutes} minutes\")"
   ]
  },
  {
   "cell_type": "markdown",
   "id": "8be76c0c",
   "metadata": {},
   "source": [
    "## Result Table\n",
    "A nice and useful way to present the results is in a table mapping the main dependent variable, the probability of success on a single game $p$, to the answers.  \n",
    "We'll keep $n=12$ and $k=3$ fixed, along with $t=\\$10$ and $c=10 \\, \\mathrm{mins} $"
   ]
  },
  {
   "cell_type": "code",
   "execution_count": 37,
   "id": "a32d2f51",
   "metadata": {},
   "outputs": [],
   "source": [
    "import numpy as np\n",
    "import pandas as pd\n",
    "import math"
   ]
  },
  {
   "cell_type": "code",
   "execution_count": 38,
   "id": "e37fe248",
   "metadata": {},
   "outputs": [],
   "source": [
    "dp = 0.05\n",
    "\n",
    "n = 12\n",
    "k = 3\n",
    "t = 10\n",
    "c = 10"
   ]
  },
  {
   "cell_type": "code",
   "execution_count": 39,
   "id": "4d521e86",
   "metadata": {},
   "outputs": [
    {
     "name": "stderr",
     "output_type": "stream",
     "text": [
      "/var/folders/7g/891d6t0d7hb5d120t4hn68mr0000gn/T/ipykernel_38541/2966935887.py:4: RuntimeWarning: divide by zero encountered in divide\n",
      "  N = 1/P\n"
     ]
    }
   ],
   "source": [
    "p = np.arange(1+dp, step=dp)\n",
    "\n",
    "P = sum(p**n * (1-p)**j * math.comb(n-1+j, j) for j in range(k))\n",
    "N = 1/P\n",
    "C = c*N\n",
    "G1 = sum( (n+j) * p**n * (1-p)**j * math.comb(n-1 + j, j) for j in range(k)) \\\n",
    "    + sum( (j+k) * p**j * (1-p)**k * math.comb(j + k-1, k-1) for j in range(n))\n",
    "G = G1 * N\n",
    "T = t * G"
   ]
  },
  {
   "cell_type": "markdown",
   "id": "95b31e8b",
   "metadata": {},
   "source": [
    "To present the values nicely in this Jupyter notebook I'll use pandas to render the table with some appropriate string formatting on the numbers."
   ]
  },
  {
   "cell_type": "code",
   "execution_count": 40,
   "id": "30094848",
   "metadata": {},
   "outputs": [
    {
     "data": {
      "text/html": [
       "<div>\n",
       "<style scoped>\n",
       "    .dataframe tbody tr th:only-of-type {\n",
       "        vertical-align: middle;\n",
       "    }\n",
       "\n",
       "    .dataframe tbody tr th {\n",
       "        vertical-align: top;\n",
       "    }\n",
       "\n",
       "    .dataframe thead th {\n",
       "        text-align: right;\n",
       "    }\n",
       "</style>\n",
       "<table border=\"1\" class=\"dataframe\">\n",
       "  <thead>\n",
       "    <tr style=\"text-align: right;\">\n",
       "      <th></th>\n",
       "      <th>p</th>\n",
       "      <th>P</th>\n",
       "      <th>N</th>\n",
       "      <th>C</th>\n",
       "      <th>G1</th>\n",
       "      <th>G</th>\n",
       "      <th>T</th>\n",
       "      <th>T_hours</th>\n",
       "      <th>T_days</th>\n",
       "    </tr>\n",
       "  </thead>\n",
       "  <tbody>\n",
       "    <tr>\n",
       "      <th>0</th>\n",
       "      <td>0.00</td>\n",
       "      <td>0</td>\n",
       "      <td>inf</td>\n",
       "      <td>inf</td>\n",
       "      <td>3.00</td>\n",
       "      <td>inf</td>\n",
       "      <td>inf</td>\n",
       "      <td>inf</td>\n",
       "      <td>inf</td>\n",
       "    </tr>\n",
       "    <tr>\n",
       "      <th>1</th>\n",
       "      <td>0.05</td>\n",
       "      <td>2.02e-14</td>\n",
       "      <td>49471586448457.00</td>\n",
       "      <td>494715864484570.00</td>\n",
       "      <td>3.16</td>\n",
       "      <td>156226062468810.34</td>\n",
       "      <td>1562260624688103.50</td>\n",
       "      <td>26037677078135.06</td>\n",
       "      <td>1084903211588.96</td>\n",
       "    </tr>\n",
       "    <tr>\n",
       "      <th>2</th>\n",
       "      <td>0.10</td>\n",
       "      <td>7.5e-11</td>\n",
       "      <td>13336889837.29</td>\n",
       "      <td>133368898372.90</td>\n",
       "      <td>3.33</td>\n",
       "      <td>44456299456.33</td>\n",
       "      <td>444562994563.32</td>\n",
       "      <td>7409383242.72</td>\n",
       "      <td>308724301.78</td>\n",
       "    </tr>\n",
       "    <tr>\n",
       "      <th>3</th>\n",
       "      <td>0.15</td>\n",
       "      <td>8.77e-09</td>\n",
       "      <td>114089950.84</td>\n",
       "      <td>1140899508.44</td>\n",
       "      <td>3.53</td>\n",
       "      <td>402670413.35</td>\n",
       "      <td>4026704133.54</td>\n",
       "      <td>67111735.56</td>\n",
       "      <td>2796322.31</td>\n",
       "    </tr>\n",
       "    <tr>\n",
       "      <th>4</th>\n",
       "      <td>0.20</td>\n",
       "      <td>2.48e-07</td>\n",
       "      <td>4034048.66</td>\n",
       "      <td>40340486.62</td>\n",
       "      <td>3.75</td>\n",
       "      <td>15127680.99</td>\n",
       "      <td>151276809.91</td>\n",
       "      <td>2521280.17</td>\n",
       "      <td>105053.34</td>\n",
       "    </tr>\n",
       "    <tr>\n",
       "      <th>5</th>\n",
       "      <td>0.25</td>\n",
       "      <td>3.21e-06</td>\n",
       "      <td>311410.04</td>\n",
       "      <td>3114100.42</td>\n",
       "      <td>4.00</td>\n",
       "      <td>1245638.56</td>\n",
       "      <td>12456385.61</td>\n",
       "      <td>207606.43</td>\n",
       "      <td>8650.27</td>\n",
       "    </tr>\n",
       "    <tr>\n",
       "      <th>6</th>\n",
       "      <td>0.30</td>\n",
       "      <td>2.53e-05</td>\n",
       "      <td>39514.41</td>\n",
       "      <td>395144.15</td>\n",
       "      <td>4.29</td>\n",
       "      <td>169345.75</td>\n",
       "      <td>1693457.51</td>\n",
       "      <td>28224.29</td>\n",
       "      <td>1176.01</td>\n",
       "    </tr>\n",
       "    <tr>\n",
       "      <th>7</th>\n",
       "      <td>0.35</td>\n",
       "      <td>0.000141</td>\n",
       "      <td>7087.20</td>\n",
       "      <td>70872.05</td>\n",
       "      <td>4.62</td>\n",
       "      <td>32708.28</td>\n",
       "      <td>327082.76</td>\n",
       "      <td>5451.38</td>\n",
       "      <td>227.14</td>\n",
       "    </tr>\n",
       "    <tr>\n",
       "      <th>8</th>\n",
       "      <td>0.40</td>\n",
       "      <td>0.000609</td>\n",
       "      <td>1642.91</td>\n",
       "      <td>16429.06</td>\n",
       "      <td>5.00</td>\n",
       "      <td>8212.44</td>\n",
       "      <td>82124.43</td>\n",
       "      <td>1368.74</td>\n",
       "      <td>57.03</td>\n",
       "    </tr>\n",
       "    <tr>\n",
       "      <th>9</th>\n",
       "      <td>0.45</td>\n",
       "      <td>0.00215</td>\n",
       "      <td>464.91</td>\n",
       "      <td>4649.06</td>\n",
       "      <td>5.45</td>\n",
       "      <td>2533.53</td>\n",
       "      <td>25335.30</td>\n",
       "      <td>422.25</td>\n",
       "      <td>17.59</td>\n",
       "    </tr>\n",
       "    <tr>\n",
       "      <th>10</th>\n",
       "      <td>0.50</td>\n",
       "      <td>0.00647</td>\n",
       "      <td>154.57</td>\n",
       "      <td>1545.66</td>\n",
       "      <td>5.98</td>\n",
       "      <td>924.79</td>\n",
       "      <td>9247.92</td>\n",
       "      <td>154.13</td>\n",
       "      <td>6.42</td>\n",
       "    </tr>\n",
       "    <tr>\n",
       "      <th>11</th>\n",
       "      <td>0.55</td>\n",
       "      <td>0.017</td>\n",
       "      <td>58.80</td>\n",
       "      <td>588.02</td>\n",
       "      <td>6.62</td>\n",
       "      <td>389.05</td>\n",
       "      <td>3890.51</td>\n",
       "      <td>64.84</td>\n",
       "      <td>2.70</td>\n",
       "    </tr>\n",
       "    <tr>\n",
       "      <th>12</th>\n",
       "      <td>0.60</td>\n",
       "      <td>0.0398</td>\n",
       "      <td>25.13</td>\n",
       "      <td>251.31</td>\n",
       "      <td>7.36</td>\n",
       "      <td>185.05</td>\n",
       "      <td>1850.52</td>\n",
       "      <td>30.84</td>\n",
       "      <td>1.29</td>\n",
       "    </tr>\n",
       "    <tr>\n",
       "      <th>13</th>\n",
       "      <td>0.65</td>\n",
       "      <td>0.0839</td>\n",
       "      <td>11.92</td>\n",
       "      <td>119.15</td>\n",
       "      <td>8.23</td>\n",
       "      <td>98.07</td>\n",
       "      <td>980.72</td>\n",
       "      <td>16.35</td>\n",
       "      <td>0.68</td>\n",
       "    </tr>\n",
       "    <tr>\n",
       "      <th>14</th>\n",
       "      <td>0.70</td>\n",
       "      <td>0.161</td>\n",
       "      <td>6.22</td>\n",
       "      <td>62.18</td>\n",
       "      <td>9.21</td>\n",
       "      <td>57.24</td>\n",
       "      <td>572.35</td>\n",
       "      <td>9.54</td>\n",
       "      <td>0.40</td>\n",
       "    </tr>\n",
       "    <tr>\n",
       "      <th>15</th>\n",
       "      <td>0.75</td>\n",
       "      <td>0.281</td>\n",
       "      <td>3.56</td>\n",
       "      <td>35.57</td>\n",
       "      <td>10.24</td>\n",
       "      <td>36.43</td>\n",
       "      <td>364.32</td>\n",
       "      <td>6.07</td>\n",
       "      <td>0.25</td>\n",
       "    </tr>\n",
       "    <tr>\n",
       "      <th>16</th>\n",
       "      <td>0.80</td>\n",
       "      <td>0.448</td>\n",
       "      <td>2.23</td>\n",
       "      <td>22.32</td>\n",
       "      <td>11.25</td>\n",
       "      <td>25.10</td>\n",
       "      <td>251.04</td>\n",
       "      <td>4.18</td>\n",
       "      <td>0.17</td>\n",
       "    </tr>\n",
       "    <tr>\n",
       "      <th>17</th>\n",
       "      <td>0.85</td>\n",
       "      <td>0.648</td>\n",
       "      <td>1.54</td>\n",
       "      <td>15.43</td>\n",
       "      <td>12.08</td>\n",
       "      <td>18.64</td>\n",
       "      <td>186.40</td>\n",
       "      <td>3.11</td>\n",
       "      <td>0.13</td>\n",
       "    </tr>\n",
       "    <tr>\n",
       "      <th>18</th>\n",
       "      <td>0.90</td>\n",
       "      <td>0.842</td>\n",
       "      <td>1.19</td>\n",
       "      <td>11.88</td>\n",
       "      <td>12.55</td>\n",
       "      <td>14.91</td>\n",
       "      <td>149.06</td>\n",
       "      <td>2.48</td>\n",
       "      <td>0.10</td>\n",
       "    </tr>\n",
       "    <tr>\n",
       "      <th>19</th>\n",
       "      <td>0.95</td>\n",
       "      <td>0.97</td>\n",
       "      <td>1.03</td>\n",
       "      <td>10.31</td>\n",
       "      <td>12.50</td>\n",
       "      <td>12.89</td>\n",
       "      <td>128.90</td>\n",
       "      <td>2.15</td>\n",
       "      <td>0.09</td>\n",
       "    </tr>\n",
       "    <tr>\n",
       "      <th>20</th>\n",
       "      <td>1.00</td>\n",
       "      <td>1</td>\n",
       "      <td>1.00</td>\n",
       "      <td>10.00</td>\n",
       "      <td>12.00</td>\n",
       "      <td>12.00</td>\n",
       "      <td>120.00</td>\n",
       "      <td>2.00</td>\n",
       "      <td>0.08</td>\n",
       "    </tr>\n",
       "  </tbody>\n",
       "</table>\n",
       "</div>"
      ],
      "text/plain": [
       "       p         P                  N                   C     G1  \\\n",
       "0   0.00         0                inf                 inf   3.00   \n",
       "1   0.05  2.02e-14  49471586448457.00  494715864484570.00   3.16   \n",
       "2   0.10   7.5e-11     13336889837.29     133368898372.90   3.33   \n",
       "3   0.15  8.77e-09       114089950.84       1140899508.44   3.53   \n",
       "4   0.20  2.48e-07         4034048.66         40340486.62   3.75   \n",
       "5   0.25  3.21e-06          311410.04          3114100.42   4.00   \n",
       "6   0.30  2.53e-05           39514.41           395144.15   4.29   \n",
       "7   0.35  0.000141            7087.20            70872.05   4.62   \n",
       "8   0.40  0.000609            1642.91            16429.06   5.00   \n",
       "9   0.45   0.00215             464.91             4649.06   5.45   \n",
       "10  0.50   0.00647             154.57             1545.66   5.98   \n",
       "11  0.55     0.017              58.80              588.02   6.62   \n",
       "12  0.60    0.0398              25.13              251.31   7.36   \n",
       "13  0.65    0.0839              11.92              119.15   8.23   \n",
       "14  0.70     0.161               6.22               62.18   9.21   \n",
       "15  0.75     0.281               3.56               35.57  10.24   \n",
       "16  0.80     0.448               2.23               22.32  11.25   \n",
       "17  0.85     0.648               1.54               15.43  12.08   \n",
       "18  0.90     0.842               1.19               11.88  12.55   \n",
       "19  0.95      0.97               1.03               10.31  12.50   \n",
       "20  1.00         1               1.00               10.00  12.00   \n",
       "\n",
       "                     G                    T            T_hours  \\\n",
       "0                  inf                  inf                inf   \n",
       "1   156226062468810.34  1562260624688103.50  26037677078135.06   \n",
       "2       44456299456.33      444562994563.32      7409383242.72   \n",
       "3         402670413.35        4026704133.54        67111735.56   \n",
       "4          15127680.99         151276809.91         2521280.17   \n",
       "5           1245638.56          12456385.61          207606.43   \n",
       "6            169345.75           1693457.51           28224.29   \n",
       "7             32708.28            327082.76            5451.38   \n",
       "8              8212.44             82124.43            1368.74   \n",
       "9              2533.53             25335.30             422.25   \n",
       "10              924.79              9247.92             154.13   \n",
       "11              389.05              3890.51              64.84   \n",
       "12              185.05              1850.52              30.84   \n",
       "13               98.07               980.72              16.35   \n",
       "14               57.24               572.35               9.54   \n",
       "15               36.43               364.32               6.07   \n",
       "16               25.10               251.04               4.18   \n",
       "17               18.64               186.40               3.11   \n",
       "18               14.91               149.06               2.48   \n",
       "19               12.89               128.90               2.15   \n",
       "20               12.00               120.00               2.00   \n",
       "\n",
       "              T_days  \n",
       "0                inf  \n",
       "1   1084903211588.96  \n",
       "2       308724301.78  \n",
       "3         2796322.31  \n",
       "4          105053.34  \n",
       "5            8650.27  \n",
       "6            1176.01  \n",
       "7             227.14  \n",
       "8              57.03  \n",
       "9              17.59  \n",
       "10              6.42  \n",
       "11              2.70  \n",
       "12              1.29  \n",
       "13              0.68  \n",
       "14              0.40  \n",
       "15              0.25  \n",
       "16              0.17  \n",
       "17              0.13  \n",
       "18              0.10  \n",
       "19              0.09  \n",
       "20              0.08  "
      ]
     },
     "execution_count": 40,
     "metadata": {},
     "output_type": "execute_result"
    }
   ],
   "source": [
    "df = pd.DataFrame({'p':p, 'P': P, 'N': N, 'C': C, 'G1': G1, 'G': G, 'T': T, 'T_hours': T/60, 'T_days': T/60/24})\n",
    "\n",
    "df['p'] = df['p'].map(\"{:.2f}\".format)\n",
    "df['P'] = df['P'].map(\"{:.3g}\".format)\n",
    "df['N'] = df['N'].map(\"{:.2f}\".format)\n",
    "df['C'] = df['C'].map(\"{:.2f}\".format)\n",
    "df['G1'] = df['G1'].map(\"{:.2f}\".format)\n",
    "df['G'] = df['G'].map(\"{:.2f}\".format)\n",
    "df['T'] = df['T'].map(\"{:.2f}\".format)\n",
    "df['T_hours'] = df['T_hours'].map(\"{:.2f}\".format)\n",
    "df['T_days'] = df['T_days'].map(\"{:.2f}\".format)\n",
    "\n",
    "df"
   ]
  },
  {
   "cell_type": "markdown",
   "id": "393d02db",
   "metadata": {},
   "source": [
    "## Conclusion\n",
    "We've seen 4 approaches to solving this problem, namely:\n",
    "1. Monte Carlo Simulation\n",
    "2. Dynamic Programming\n",
    "3. Linear Systems\n",
    "4. Closed-Form Solutions / Analytics / Combinatorics / Stars-and-Bars\n",
    "\n",
    "Along the way we've learned and used techniques from probability, sampling, dynamic programming, recursion, memoization, linear systems, matrices, combinatorics, and complexity theory.\n",
    "\n",
    "This was an enjoyable.  \n",
    "Oh, and, sounds like it would take a long time to win the prize in Brawliseum!\n",
    "\n",
    "### Further Reading References and Links\n",
    "1. Monte Carlo Simulation\n",
    "   - https://en.wikipedia.org/wiki/Monte_Carlo_method\n",
    "   - https://en.wikipedia.org/wiki/Sampling_(statistics)\n",
    "2. Dynamic Programming\n",
    "   - https://en.wikipedia.org/wiki/Dynamic_programming\n",
    "   - https://en.wikipedia.org/wiki/Memoization\n",
    "   - https://en.wikipedia.org/wiki/Recursion\n",
    "   - https://en.wikipedia.org/wiki/Piecewise\n",
    "3. Linear Systems\n",
    "   - https://en.wikipedia.org/wiki/System_of_linear_equations\n",
    "   - https://en.wikipedia.org/wiki/Sparse_matrix\n",
    "   - https://en.wikipedia.org/wiki/Band_matrix\n",
    "4. Combinatorics\n",
    "   - https://en.wikipedia.org/wiki/Combinatorics\n",
    "   - https://en.wikipedia.org/wiki/Stars_and_bars_(combinatorics)\n",
    "   - https://en.wikipedia.org/wiki/Twelvefold_way\n",
    "4. Probability\n",
    "   - https://en.wikipedia.org/wiki/Probability\n",
    "   - https://en.wikipedia.org/wiki/Expected_value\n",
    "\n",
    "### Answers Summary\n",
    "Using the backstory values\n",
    "- $p = 50\\%$ (since for each winner, there is also a loser)\n",
    "- $n = 12$\n",
    "- $k = 3$\n",
    "- $c = \\$ 10$\n",
    "- $t = 10 \\mathrm{mins}$\n",
    "\n",
    "The answers are:\n",
    "- The probability of winning the prize in a single admission $\\mathrm{P} = 0.647%$.\n",
    "- The expected number of admissions to win the prize $\\mathrm{N} = 154.566$.\n",
    "- The expected total cost to win the prize $\\mathrm{C} = \\$ 1545.66$.\n",
    "- The expected number of games played in a single admission $\\mathrm{G}_{1} = 5.983$.\n",
    "- The expected number of games played to win the prize $\\mathrm{G} = 924.792$.\n",
    "- The expected total time it will take to win the prize $\\mathrm{T} = 9247.925 \\mathrm{mins} = 6 \\mathrm{days} \\, 10 \\mathrm{hours} \\, 8 \\mathrm{mins}$."
   ]
  },
  {
   "cell_type": "code",
   "execution_count": null,
   "id": "d6ffcde9",
   "metadata": {},
   "outputs": [],
   "source": []
  }
 ],
 "metadata": {
  "kernelspec": {
   "display_name": "Python 3",
   "language": "python",
   "name": "python3"
  },
  "language_info": {
   "codemirror_mode": {
    "name": "ipython",
    "version": 3
   },
   "file_extension": ".py",
   "mimetype": "text/x-python",
   "name": "python",
   "nbconvert_exporter": "python",
   "pygments_lexer": "ipython3",
   "version": "3.11.1"
  }
 },
 "nbformat": 4,
 "nbformat_minor": 5
}
