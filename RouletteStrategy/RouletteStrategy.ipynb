{
 "cells": [
  {
   "cell_type": "markdown",
   "id": "a5bf8e01",
   "metadata": {},
   "source": [
    "# Roulette Strategy\n",
    "\n",
    "A friend sent me this [video](https://www.instagram.com/p/C4_6h2yxLvL/), showing a proposed strategy for placing bets in roulette. \n",
    "Then he asked \"What is the probability of making money doing this 10 times?\"\n",
    "\n",
    "Interesting question! Let's start off with the basics of roulette."
   ]
  },
  {
   "cell_type": "markdown",
   "id": "4417c7fa",
   "metadata": {},
   "source": [
    "## How Roulette Works\n",
    "\n",
    "We can find everything we need on the Wikipedia page here: https://en.wikipedia.org/wiki/Roulette\n",
    "\n",
    "But here's a summary of what's relevant to the video and our calculations: \n",
    "\n",
    "### The Layout\n",
    "\n",
    "A spin of the roulette wheel results in a single number, which will also have a color associated with it (red, black, or green).\n",
    "\n",
    "In an American-style layout, as is shown in the video, there are numbers 1-36, as well as 0 and 00, for a total of **38 equally likely outcomes** on a single spin.\n",
    "\n",
    "### Betting\n",
    "\n",
    "There are many different varieties of bets, but they all effectively boil down to choosing a set of numbers as possible outcomes and you win if the outcome is in your set.\n",
    "\n",
    "#### Payout\n",
    "\n",
    "The payout is given by\n",
    "\n",
    "$$ V = \\frac{36}{n} $$ \n",
    "\n",
    "Where:\n",
    "- $V$ is the ratio to the initial bet received upon success. Note that this includes the initial bet: subtract 1 to get the profit margin.\n",
    "- $n$ is the size of the set of numbers you bet on.\n",
    "\n",
    "The types of bets which are allowed have sizes $n \\in \\{1, 2, 3, 4, 6, 12, 18\\}$, so we always have whole-number payouts. The only exception is the \"American-style top line bet\", which is a bet on $\\{0, 00, 1, 2, 3\\}$, which has $n=5$ and therefore should payout $V=\\frac{36}{5} = 7.2$ times the initial bet, but is rounded down to $7$ to keep whole numbers: i.e. it pays out less than it should.\n",
    "\n",
    "#### Probability\n",
    "\n",
    "The probability of any of the number in a set of size $n$ being chosen is just\n",
    "\n",
    "$$ P = \\frac{n}{38} $$ \n",
    "\n",
    "Where:\n",
    "- $P$ is the probability of success of the bet.\n",
    "- $n$ is the size of the set of numbers you bet on.\n",
    "\n",
    "#### Expected Value (Utility)\n",
    "\n",
    "Putting these together the expected return of any bet is\n",
    "\n",
    "$$ U = PV = \\frac{n}{38} \\frac{36}{n} = \\frac{36}{38} \\approx 0.9474 $$\n",
    "\n",
    "Where\n",
    "- $U$ is the expected value of the bet (utility).\n",
    "- $P$ is the probability of success of the bet.\n",
    "- $V$ is the ratio to the initial bet received upon success. Note that this includes the initial bet: subtract 1 to get the profit margin.\n",
    "- $n$ is the size of the set of numbers you bet on.\n",
    "\n",
    "So therefore every bet you can makes has the same expected value, which is less than your initial bet. **Effectively you can expect to lose $0.0526$ of your initial bet every round.**"
   ]
  },
  {
   "cell_type": "markdown",
   "id": "e85d850e",
   "metadata": {},
   "source": [
    "## The Proposed Strategy\n",
    "\n",
    "In the video, it is claimed that there is a roulette strategy which will win 70% of the time. \n",
    "It goes as follows:\n",
    "\n",
    "- The board is American-style\n",
    "- \\\\$25 on the first dozen, $\\{1, 2, 3, 4, 5, 6, 7, 8, 9, 10, 11, 12\\}$\n",
    "- \\\\$25 on the second dozen, $\\{13, 14, 15, 16, 17, 18, 19, 20, 21, 22, 23, 24\\}$\n",
    "- \\\\$25 on the first column, $\\{1, 4, 7, 10, 13, 16, 19, 22, 25, 28, 31, 34\\}$\n",
    "- \\\\$25 on the third column, $\\{3, 6, 9, 12, 15, 18, 21, 24, 27, 30, 33, 36\\}$\n",
    "\n",
    "### Expected Value\n",
    "\n",
    "While there is overlap between the numbers chosen for the parts of the bet, each part effectively acts as an independent bet and so the expected value of the bet is unchanged: \\\\$94.74, so a loss of \\\\$5.26.\n",
    "\n",
    "### Breakdown\n",
    "\n",
    "Let's go through the possible outcomes with the overlaps. Note that since each part of the bet is on a set of 12 numbers, the returns will always be 3 times, which makes the math easy.\n",
    "- \\\\$150 for an overlap, $|\\{1, 3, 4, 6, 7, 9, 10, 12, 13, 15, 16, 18, 19, 21, 22, 24\\}| = 16$\n",
    "- \\\\$75 for a single, $|\\{2, 5, 8, 11, 14, 17, 20, 23, 25, 27, 28, 30, 31, 33, 34, 36\\}| = 16$\n",
    "- \\\\$0 for a miss, $|\\{00, 0, 26, 29, 32, 35\\}| = 6$\n",
    "\n",
    "We can again compute the expected return to confirm:\n",
    "\n",
    "$$ U = \\$150 \\frac{16}{38} + \\$75 \\frac{16}{38} + \\$0 \\frac{6}{38} \\approx \\$94.74 $$\n",
    "\n",
    "Only 1 of the above cases leads to making money on the bet, with a probability of $ \\frac{16}{38} \\approx 0.4211 $.\n",
    "\n",
    "The probability of getting back any chips is $ \\frac{32}{38} \\approx 0.8421 $.\n",
    "\n",
    "None of these values are 70%, so where did this number come from? It seems this is just a flat out lie."
   ]
  },
  {
   "cell_type": "markdown",
   "id": "443ae4bc",
   "metadata": {},
   "source": [
    "## Answering The Question\n",
    "\n",
    "Okay, but now we still need to answer the question, \"What is the probability of making money doing this 10 times?\"\n",
    "\n",
    "### The Easier Question: Expected Value Again\n",
    "\n",
    "We can start off by more easily answering the question of what is the expected value of doing this 10 times: since each bet has an expected loss of \\\\$5.26, 10 times is an expected loss of \\\\$52.63.\n"
   ]
  },
  {
   "cell_type": "markdown",
   "id": "7fbd57e8",
   "metadata": {},
   "source": [
    "### Computation via State Space\n",
    "\n",
    "An easy way to compute the answer is to keep track of how the probability distribution through the state space evolves after 10 steps.\n",
    "\n",
    "The state is simply how much money we've gained/lost. Since each part of the bet is in \\\\$25, we could divide through by the factor of \\\\$25 to see by which factor we're up or down. In which case the possible results become:\n",
    "\n",
    "- $\\frac{16}{38}$ probability of $+2$\n",
    "- $\\frac{16}{38}$ probability of $-1$\n",
    "- $\\frac{6}{38}$ probability of $-4$\n",
    "\n",
    "So the maximum state is $2 \\times 10 = 20$ and the minimum state is $-4 \\times 10 = -40$, for a maximum total number of states of $20 - (-40) = 60$, computed over 10 steps is 600 operations. Easy to compute.\n",
    "\n",
    "Here we'll do it in Python, and use a dictionary to keep track of the probability of being in each state, so we can keep our states in terms of dollars from the original betting amounts at no extra overhead."
   ]
  },
  {
   "cell_type": "code",
   "execution_count": 1,
   "id": "e0a81d2f",
   "metadata": {},
   "outputs": [],
   "source": [
    "from collections import defaultdict"
   ]
  },
  {
   "cell_type": "code",
   "execution_count": 2,
   "id": "51ebd565",
   "metadata": {},
   "outputs": [],
   "source": [
    "# initial state\n",
    "P = {0:1}\n",
    "\n",
    "# Perform the steps\n",
    "for step in range(10):\n",
    "    Pnew = defaultdict(float)\n",
    "    for state,p in P.items():\n",
    "        Pnew[state+50] += p * 16/38\n",
    "        Pnew[state-25] += p * 16/38\n",
    "        Pnew[state-100] += p * 6/38\n",
    "    P = Pnew\n",
    "\n",
    "# Sum all final states where we make money\n",
    "result = sum(p for state,p in P.items() if state > 0)"
   ]
  },
  {
   "cell_type": "code",
   "execution_count": 3,
   "id": "99fda981",
   "metadata": {},
   "outputs": [
    {
     "data": {
      "text/plain": [
       "defaultdict(float,\n",
       "            {500: 0.0001751313358641004,\n",
       "             425: 0.001751313358641004,\n",
       "             350: 0.008537652623374893,\n",
       "             275: 0.02692644288910543,\n",
       "             200: 0.06152856385787964,\n",
       "             125: 0.10816549131306498,\n",
       "             50: 0.15166647328543378,\n",
       "             -25: 0.1735852545396751,\n",
       "             -100: 0.1646255935459441,\n",
       "             -175: 0.13060881144142272,\n",
       "             -250: 0.08714239823981712,\n",
       "             -325: 0.048978304290533514,\n",
       "             -400: 0.023150474092398385,\n",
       "             -475: 0.009153909907365679,\n",
       "             -550: 0.002999263753935581,\n",
       "             -625: 0.0008021305660728393,\n",
       "             -700: 0.0001711056634994288,\n",
       "             -775: 2.8080048846470633e-05,\n",
       "             -850: 3.338786295769374e-06,\n",
       "             -925: 2.5682971505918264e-07,\n",
       "             -1000: 9.63111431471935e-09})"
      ]
     },
     "execution_count": 3,
     "metadata": {},
     "output_type": "execute_result"
    }
   ],
   "source": [
    "P"
   ]
  },
  {
   "cell_type": "code",
   "execution_count": 4,
   "id": "ee1adc0e",
   "metadata": {},
   "outputs": [
    {
     "data": {
      "text/plain": [
       "0.3587510686633638"
      ]
     },
     "execution_count": 4,
     "metadata": {},
     "output_type": "execute_result"
    }
   ],
   "source": [
    "result"
   ]
  },
  {
   "cell_type": "markdown",
   "id": "d238bee6",
   "metadata": {},
   "source": [
    "So we the final probability of making money is 0.3588, a little more than a 1 in 3 chance, which isn't as bad as one might imagine, however definitely more likely you'll lose money."
   ]
  },
  {
   "cell_type": "markdown",
   "id": "398e5006",
   "metadata": {},
   "source": [
    "### Computation via Combinatorics\n",
    "\n",
    "We can also use combinatorics and probability to compute the odds without running through all of the steps:\n",
    "\n",
    "#### The Expression\n",
    "\n",
    "$$ \\sum_{A,B,C} \\binom{10}{A} \\left ( \\frac{16}{38} \\right ) ^ {A} \\binom{10 - A}{B} \\left ( \\frac{16}{38} \\right ) ^ {B} \\binom{10 - A - B}{C} \\left ( \\frac{6}{38} \\right ) ^ {C}$$\n",
    "Such that\n",
    "$$ 2 A - B - 4 C > 0 $$\n",
    "$$ A + B + C = 10 $$\n",
    "$$ A,B,C \\geq 0 $$\n",
    "\n",
    "Where\n",
    "- $A$ is the number of overlaps, making \\\\$50\n",
    "- $B$ is the number of singles, losing \\\\$25\n",
    "- $C$ is the number of misses, losing \\\\$100\n",
    "- $\\binom{x}{y}$ is the binomial coefficient, or \"$x \\: \\mathrm{choose} \\: y$\"\n",
    "- $\\sum_{A,B,C}$ is the sum over all combinations of $A,B,C$\n",
    "\n",
    "#### Simplification\n",
    "\n",
    "We can simplify the equation by subbing in the equality for $C$ and rearranging terms.\n",
    "\n",
    "$$ \\left ( \\frac{6}{38} \\right ) ^ {10} \\sum_{A,B} \\binom{10}{A} \\binom{10 - A}{B}  \\left ( \\frac{16}{6} \\right ) ^ {A+B} $$\n",
    "Such that\n",
    "$$ 6 A + 3B > 40 $$\n",
    "$$ A+B \\leq 10 $$\n",
    "$$ A,B \\geq 0 $$\n",
    "\n",
    "#### Further Simplification for Symmetry\n",
    "\n",
    "This can also be rearranged like so: \n",
    "$$ 10! \\left ( \\frac{6}{38} \\right ) ^ {10} \\sum_{A,B} \\frac{1}{A! B! (10-A-B)!} \\left ( \\frac{16}{6} \\right ) ^ {A+B} $$\n",
    "\n",
    "#### Number of Terms\n",
    "\n",
    "Now this is almost a closed-form expression for the answer, however one question is how many terms does one actually need to comput in the sum?\n",
    "An easy upper bound is since both $A$ and $B$ must be between $0$ and $10$ then the number of terms must be less than $100$.\n",
    "As we'll find out, the actual answer is 16 terms."
   ]
  },
  {
   "cell_type": "code",
   "execution_count": 5,
   "id": "85583eed",
   "metadata": {},
   "outputs": [],
   "source": [
    "import math"
   ]
  },
  {
   "cell_type": "code",
   "execution_count": 6,
   "id": "81800d72",
   "metadata": {},
   "outputs": [
    {
     "name": "stdout",
     "output_type": "stream",
     "text": [
      "triplet: 4 6 0\n",
      "triplet: 5 4 1\n",
      "triplet: 5 5 0\n",
      "triplet: 6 2 2\n",
      "triplet: 6 3 1\n",
      "triplet: 6 4 0\n",
      "triplet: 7 0 3\n",
      "triplet: 7 1 2\n",
      "triplet: 7 2 1\n",
      "triplet: 7 3 0\n",
      "triplet: 8 0 2\n",
      "triplet: 8 1 1\n",
      "triplet: 8 2 0\n",
      "triplet: 9 0 1\n",
      "triplet: 9 1 0\n",
      "triplet: 10 0 0\n",
      "total terms: 16\n"
     ]
    }
   ],
   "source": [
    "result = 0\n",
    "count = 0\n",
    "for A in range(10+1):\n",
    "    for B in range(10-A +1):\n",
    "        if 6*A + 3*B > 40:\n",
    "            print(\"triplet:\", A,B,10-A-B)\n",
    "            count += 1\n",
    "            result += math.comb(10,A) * math.comb(10-A,B) * (16/6) ** (A+B)\n",
    "result *= (6/38) ** 10\n",
    "print(\"total terms:\", count)"
   ]
  },
  {
   "cell_type": "code",
   "execution_count": 7,
   "id": "9a8b80e5",
   "metadata": {},
   "outputs": [
    {
     "data": {
      "text/plain": [
       "0.3587510686633636"
      ]
     },
     "execution_count": 7,
     "metadata": {},
     "output_type": "execute_result"
    }
   ],
   "source": [
    "result"
   ]
  },
  {
   "cell_type": "markdown",
   "id": "33eeab48",
   "metadata": {},
   "source": [
    "Again we get the final probability of making money is 0.3588, so that confirms our answer."
   ]
  },
  {
   "cell_type": "markdown",
   "id": "107eeaa2",
   "metadata": {},
   "source": [
    "## Conclusion\n",
    "\n",
    "We've seen 2 approaches to solving this problem, namely:\n",
    "\n",
    "- State Space\n",
    "- Combinatorics\n",
    "\n",
    "Along the way we've learned and used techniques from probability, utility theory, and combinatorics. Also we learned how to play roulette!\n",
    "\n",
    "This was an enjoyable. And we learned no matter what we bet in roullete, the house always has the same edge.\n",
    "\n",
    "### Further Work\n",
    "\n",
    "We also could have done a Monte Carlo simulation to get an approximation of our answer.\n",
    "\n",
    "### Further Reading References and Links\n",
    "\n",
    "- https://en.wikipedia.org/wiki/Probability\n",
    "- https://en.wikipedia.org/wiki/Expected_value\n",
    "- https://en.wikipedia.org/wiki/Utility\n",
    "- https://en.wikipedia.org/wiki/Expected_utility_hypothesis\n",
    "- https://en.wikipedia.org/wiki/Combinatorics\n",
    "- https://en.wikipedia.org/wiki/State_space_(computer_science)\n",
    "- https://en.wikipedia.org/wiki/Probability_space\n",
    "\n",
    "### Answers Summary\n",
    "\n",
    "- The expected result of any roulette bet is a loss of 0.0526 of your bet.\n",
    "- The probability of making any money using the betting strategy proposed 10 times is 0.3587"
   ]
  },
  {
   "cell_type": "code",
   "execution_count": null,
   "id": "9921a256",
   "metadata": {},
   "outputs": [],
   "source": []
  }
 ],
 "metadata": {
  "kernelspec": {
   "display_name": "Python 3",
   "language": "python",
   "name": "python3"
  },
  "language_info": {
   "codemirror_mode": {
    "name": "ipython",
    "version": 3
   },
   "file_extension": ".py",
   "mimetype": "text/x-python",
   "name": "python",
   "nbconvert_exporter": "python",
   "pygments_lexer": "ipython3",
   "version": "3.11.7"
  }
 },
 "nbformat": 4,
 "nbformat_minor": 5
}
