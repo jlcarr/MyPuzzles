{
 "cells": [
  {
   "cell_type": "markdown",
   "id": "74ac6d9b",
   "metadata": {},
   "source": [
    "# Behold a Square Area\n",
    "\n",
    "A friend of mine showed me a viral post about a \"square\".\n",
    "https://knowyourmeme.com/memes/behold-a-square\n",
    "\n",
    "The shape has 4 equal sides and 4 right angles, but obviously the sides are neither straight nor parallel with eachother.\n",
    "\n",
    "My friend challenged me to find the area of the \"square\". Fun! Let's use sympy to do the algebra for us."
   ]
  },
  {
   "cell_type": "markdown",
   "id": "cea19ef2",
   "metadata": {},
   "source": [
    "#### Initial Definitions"
   ]
  },
  {
   "cell_type": "code",
   "execution_count": null,
   "id": "56b4f1f5",
   "metadata": {},
   "outputs": [],
   "source": [
    "import sympy"
   ]
  },
  {
   "cell_type": "markdown",
   "id": "a84eea1c",
   "metadata": {},
   "source": [
    "Let's start by defining $s$ as the side-length of our \"square\"."
   ]
  },
  {
   "cell_type": "code",
   "execution_count": null,
   "id": "cddd77c7",
   "metadata": {},
   "outputs": [],
   "source": [
    "s = sympy.symbols('s')\n",
    "s"
   ]
  },
  {
   "cell_type": "markdown",
   "id": "02b35faf",
   "metadata": {},
   "source": [
    "And let's define the missing arc on the small circle as $a$."
   ]
  },
  {
   "cell_type": "code",
   "execution_count": null,
   "id": "a4c64f01",
   "metadata": {},
   "outputs": [],
   "source": [
    "a = sympy.symbols('a')\n",
    "a"
   ]
  },
  {
   "cell_type": "markdown",
   "id": "2ce7ea2e",
   "metadata": {},
   "source": [
    "#### Shape Definitions"
   ]
  },
  {
   "cell_type": "markdown",
   "id": "6f25aaec",
   "metadata": {},
   "source": [
    "The circumference of the small circle is simply defined in terms of $s$ and $a$"
   ]
  },
  {
   "cell_type": "code",
   "execution_count": null,
   "id": "ef4d37c9",
   "metadata": {},
   "outputs": [],
   "source": [
    "C_small = s + a\n",
    "C_small"
   ]
  },
  {
   "cell_type": "markdown",
   "id": "640078ba",
   "metadata": {},
   "source": [
    "And from which we can easily get the small circle's radius\n",
    "\n",
    "$$ C = 2 \\pi r $$"
   ]
  },
  {
   "cell_type": "code",
   "execution_count": null,
   "id": "d88f3a24",
   "metadata": {},
   "outputs": [],
   "source": [
    "r_small = C_small / (2 * sympy.pi)\n",
    "r_small"
   ]
  },
  {
   "cell_type": "markdown",
   "id": "64f5a70d",
   "metadata": {},
   "source": [
    "With the small radius we can now easily get the large sector's radius"
   ]
  },
  {
   "cell_type": "code",
   "execution_count": null,
   "id": "e0fe687c",
   "metadata": {},
   "outputs": [],
   "source": [
    "r_large = s + r_small\n",
    "r_large"
   ]
  },
  {
   "cell_type": "markdown",
   "id": "dd4fa93d",
   "metadata": {},
   "source": [
    "And from which we can get the large sector's circumference."
   ]
  },
  {
   "cell_type": "code",
   "execution_count": null,
   "id": "64cf5b08",
   "metadata": {},
   "outputs": [],
   "source": [
    "C_large = 2 * sympy.pi * r_large\n",
    "C_large.simplify()"
   ]
  },
  {
   "cell_type": "markdown",
   "id": "bcc822c2",
   "metadata": {},
   "source": [
    "#### Similarity and Eliminating a Free Variable"
   ]
  },
  {
   "cell_type": "markdown",
   "id": "6d22401b",
   "metadata": {},
   "source": [
    "Since the small circle and the large sector share a center of their circles, they must be \"similar\", and so the small circle's missing arc to the small circle's radius must be as the large sector's arc is to the large sector's radius.\n",
    "\n",
    "This gives us a relation between $s$ and $a$, so now we only need to worry about 1 free variable to define our area in terms of."
   ]
  },
  {
   "cell_type": "code",
   "execution_count": null,
   "id": "0cac5ad9",
   "metadata": {},
   "outputs": [],
   "source": [
    "arc_ratios = sympy.Eq(a / s, r_small / r_large)\n",
    "arc_ratios.simplify()"
   ]
  },
  {
   "cell_type": "code",
   "execution_count": null,
   "id": "834e145d",
   "metadata": {},
   "outputs": [],
   "source": [
    "solutions = sympy.solve(arc_ratios, a, dict=True)\n",
    "solutions"
   ]
  },
  {
   "cell_type": "code",
   "execution_count": null,
   "id": "55d89963",
   "metadata": {},
   "outputs": [],
   "source": [
    "solutions[1][a]"
   ]
  },
  {
   "cell_type": "markdown",
   "id": "ccbfb70d",
   "metadata": {},
   "source": [
    "The second solution is entirely negative if $s$ is positive, so we can discount it."
   ]
  },
  {
   "cell_type": "code",
   "execution_count": null,
   "id": "7de6e7a8",
   "metadata": {},
   "outputs": [],
   "source": [
    "solutions = solutions[:1]"
   ]
  },
  {
   "cell_type": "markdown",
   "id": "d3c1bc8d",
   "metadata": {},
   "source": [
    "#### The Angle"
   ]
  },
  {
   "cell_type": "markdown",
   "id": "4ef76ec9",
   "metadata": {},
   "source": [
    "While we're at it, the ratio of the arc to the full circumference is going to be the same as the arc's angle to the pull $2 \\pi$ radians. So we can find the angle $\\theta$ of the arc/sector."
   ]
  },
  {
   "cell_type": "code",
   "execution_count": null,
   "id": "a5f24ee5",
   "metadata": {},
   "outputs": [],
   "source": [
    "t = sympy.symbols('theta')\n",
    "angle_small_arc_ratio = sympy.Eq(t / (2 * sympy.pi), a / C_small)\n",
    "angle_small_arc_ratio"
   ]
  },
  {
   "cell_type": "code",
   "execution_count": null,
   "id": "25c3456e",
   "metadata": {},
   "outputs": [],
   "source": [
    "solutions = [\n",
    "    {**sol, **t_sol} \n",
    "    for sol in solutions \n",
    "    for t_sol in sympy.solve(angle_small_arc_ratio.subs(sol), t, dict=True)]\n",
    "solutions"
   ]
  },
  {
   "cell_type": "code",
   "execution_count": null,
   "id": "c914963e",
   "metadata": {},
   "outputs": [],
   "source": [
    "solutions[0][t].simplify()"
   ]
  },
  {
   "cell_type": "markdown",
   "id": "d8574b93",
   "metadata": {},
   "source": [
    "#### Final Solving"
   ]
  },
  {
   "cell_type": "markdown",
   "id": "14952433",
   "metadata": {},
   "source": [
    "We can get the area of the large sector (including the overlap with the small circle), by the area of the entire large circle would be with the ratio of the angle."
   ]
  },
  {
   "cell_type": "code",
   "execution_count": null,
   "id": "15e96dad",
   "metadata": {},
   "outputs": [],
   "source": [
    "area_large_sector = sympy.pi * r_large**2 * (t / (2 * sympy.pi))\n",
    "area_large_sector = area_large_sector.subs(solutions[0]).simplify()\n",
    "area_large_sector"
   ]
  },
  {
   "cell_type": "markdown",
   "id": "eda14f61",
   "metadata": {},
   "source": [
    "The area of the small circle (including the overlap with the large sector) is quite simple."
   ]
  },
  {
   "cell_type": "code",
   "execution_count": null,
   "id": "807fa8b5",
   "metadata": {},
   "outputs": [],
   "source": [
    "area_small_circle = sympy.pi * r_small**2\n",
    "area_small_circle = area_small_circle.subs(solutions[0]).simplify()\n",
    "area_small_circle"
   ]
  },
  {
   "cell_type": "markdown",
   "id": "f340e6b6",
   "metadata": {},
   "source": [
    "And to finish up we should compute the area of overlap so that we can avoid adding it twice. This is the small sector of overlap."
   ]
  },
  {
   "cell_type": "code",
   "execution_count": null,
   "id": "19a457cc",
   "metadata": {},
   "outputs": [],
   "source": [
    "area_small_sector_overlap = area_small_circle * (t / (2 * sympy.pi))\n",
    "area_small_sector_overlap = area_small_sector_overlap.subs(solutions[0]).simplify()\n",
    "area_small_sector_overlap"
   ]
  },
  {
   "cell_type": "markdown",
   "id": "b64a49b6",
   "metadata": {},
   "source": [
    "This gives us our final area of our \"square\""
   ]
  },
  {
   "cell_type": "code",
   "execution_count": null,
   "id": "3de95504",
   "metadata": {},
   "outputs": [],
   "source": [
    "square_area = area_large_sector + area_small_circle - area_small_sector_overlap\n",
    "square_area = square_area.simplify()\n",
    "square_area"
   ]
  },
  {
   "cell_type": "markdown",
   "id": "ef307c00",
   "metadata": {},
   "source": [
    "## Verifying the Reddit Post"
   ]
  },
  {
   "cell_type": "markdown",
   "id": "b490bc38",
   "metadata": {},
   "source": [
    "I also found this Reddit post which gives a value for the inner angle, and defines the side length, and hence the small circle's radius.\n",
    "\n",
    "https://www.reddit.com/r/mathmemes/comments/1fk15k3/behold_a_square/\n",
    "\n",
    "Let's verify these are correct."
   ]
  },
  {
   "cell_type": "markdown",
   "id": "003476f1",
   "metadata": {},
   "source": [
    "#### The Angle\n",
    "\n",
    "We can verify the value by converting the value we got for $\\theta$ to numerical degrees"
   ]
  },
  {
   "cell_type": "code",
   "execution_count": null,
   "id": "5c8942e5",
   "metadata": {},
   "outputs": [],
   "source": [
    "sympy.N(solutions[0][t].simplify()*180/sympy.pi)"
   ]
  },
  {
   "cell_type": "markdown",
   "id": "393a5b61",
   "metadata": {},
   "source": [
    "#### The Side Length\n",
    "Given the small circle's radius of $1$ we can verify this results in the side length given."
   ]
  },
  {
   "cell_type": "code",
   "execution_count": null,
   "id": "00bc9281",
   "metadata": {},
   "outputs": [],
   "source": [
    "Reddit_r_small_equality = sympy.Eq(r_small.subs(solutions[0]), 1)\n",
    "Reddit_r_small_equality"
   ]
  },
  {
   "cell_type": "code",
   "execution_count": null,
   "id": "cc4b9518",
   "metadata": {},
   "outputs": [],
   "source": [
    "Reddit_solutions = sympy.solve(Reddit_r_small_equality, s)\n",
    "Reddit_solutions"
   ]
  },
  {
   "cell_type": "code",
   "execution_count": null,
   "id": "060682a6",
   "metadata": {},
   "outputs": [],
   "source": [
    "Reddit_solutions[0].simplify()"
   ]
  },
  {
   "cell_type": "code",
   "execution_count": null,
   "id": "c25a0b26",
   "metadata": {},
   "outputs": [],
   "source": []
  }
 ],
 "metadata": {
  "kernelspec": {
   "display_name": "Python 3",
   "language": "python",
   "name": "python3"
  },
  "language_info": {
   "codemirror_mode": {
    "name": "ipython",
    "version": 3
   },
   "file_extension": ".py",
   "mimetype": "text/x-python",
   "name": "python",
   "nbconvert_exporter": "python",
   "pygments_lexer": "ipython3",
   "version": "3.11.7"
  }
 },
 "nbformat": 4,
 "nbformat_minor": 5
}
